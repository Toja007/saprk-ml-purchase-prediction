{
  "nbformat": 4,
  "nbformat_minor": 0,
  "metadata": {
    "colab": {
      "provenance": []
    },
    "kernelspec": {
      "name": "python3",
      "display_name": "Python 3"
    },
    "language_info": {
      "name": "python"
    }
  },
  "cells": [
    {
      "cell_type": "code",
      "execution_count": 2,
      "metadata": {
        "id": "1aHP3AD5Q1va"
      },
      "outputs": [],
      "source": [
        "#importing libraries\n",
        "from pyspark.sql import SparkSession\n",
        "import pyspark.sql.types as tp\n",
        "from pyspark.sql import functions as f\n",
        "import matplotlib.pyplot as plt\n",
        "%matplotlib inline\n"
      ]
    },
    {
      "cell_type": "code",
      "source": [
        "#initializing spark\n",
        "spark = SparkSession.builder.appName(\"purchase_predictor\").getOrCreate()"
      ],
      "metadata": {
        "id": "E_c3HERsa16I"
      },
      "execution_count": 3,
      "outputs": []
    },
    {
      "cell_type": "code",
      "source": [],
      "metadata": {
        "id": "fL9OQUXvbOZK"
      },
      "execution_count": 3,
      "outputs": []
    },
    {
      "cell_type": "code",
      "source": [
        "# loading data\n",
        "purchase_train = spark.read.csv(\"/content/train.csv\", header =True, inferSchema = True)\n",
        "purchase_test = spark.read.csv(\"/content/test.csv\", header =True, inferSchema = True)"
      ],
      "metadata": {
        "id": "Ytbsxt2NbC7_"
      },
      "execution_count": 4,
      "outputs": []
    },
    {
      "cell_type": "code",
      "source": [
        "purchase_train.show()"
      ],
      "metadata": {
        "colab": {
          "base_uri": "https://localhost:8080/"
        },
        "id": "f-rXz-S6ba3Y",
        "outputId": "b69ee4d2-6d0b-4f28-fb0a-de810bc88769"
      },
      "execution_count": 5,
      "outputs": [
        {
          "output_type": "stream",
          "name": "stdout",
          "text": [
            "+-------+----------+------+-----+----------+-------------+--------------------------+--------------+------------------+------------------+------------------+--------+\n",
            "|User_ID|Product_ID|Gender|  Age|Occupation|City_Category|Stay_In_Current_City_Years|Marital_Status|Product_Category_1|Product_Category_2|Product_Category_3|Purchase|\n",
            "+-------+----------+------+-----+----------+-------------+--------------------------+--------------+------------------+------------------+------------------+--------+\n",
            "|1000001| P00069042|     F| 0-17|        10|            A|                         2|             0|                 3|              NULL|              NULL|    8370|\n",
            "|1000001| P00248942|     F| 0-17|        10|            A|                         2|             0|                 1|                 6|                14|   15200|\n",
            "|1000001| P00087842|     F| 0-17|        10|            A|                         2|             0|                12|              NULL|              NULL|    1422|\n",
            "|1000001| P00085442|     F| 0-17|        10|            A|                         2|             0|                12|                14|              NULL|    1057|\n",
            "|1000002| P00285442|     M|  55+|        16|            C|                        4+|             0|                 8|              NULL|              NULL|    7969|\n",
            "|1000003| P00193542|     M|26-35|        15|            A|                         3|             0|                 1|                 2|              NULL|   15227|\n",
            "|1000004| P00184942|     M|46-50|         7|            B|                         2|             1|                 1|                 8|                17|   19215|\n",
            "|1000004| P00346142|     M|46-50|         7|            B|                         2|             1|                 1|                15|              NULL|   15854|\n",
            "|1000004|  P0097242|     M|46-50|         7|            B|                         2|             1|                 1|                16|              NULL|   15686|\n",
            "|1000005| P00274942|     M|26-35|        20|            A|                         1|             1|                 8|              NULL|              NULL|    7871|\n",
            "|1000005| P00251242|     M|26-35|        20|            A|                         1|             1|                 5|                11|              NULL|    5254|\n",
            "|1000005| P00014542|     M|26-35|        20|            A|                         1|             1|                 8|              NULL|              NULL|    3957|\n",
            "|1000005| P00031342|     M|26-35|        20|            A|                         1|             1|                 8|              NULL|              NULL|    6073|\n",
            "|1000005| P00145042|     M|26-35|        20|            A|                         1|             1|                 1|                 2|                 5|   15665|\n",
            "|1000006| P00231342|     F|51-55|         9|            A|                         1|             0|                 5|                 8|                14|    5378|\n",
            "|1000006| P00190242|     F|51-55|         9|            A|                         1|             0|                 4|                 5|              NULL|    2079|\n",
            "|1000006|  P0096642|     F|51-55|         9|            A|                         1|             0|                 2|                 3|                 4|   13055|\n",
            "|1000006| P00058442|     F|51-55|         9|            A|                         1|             0|                 5|                14|              NULL|    8851|\n",
            "|1000007| P00036842|     M|36-45|         1|            B|                         1|             1|                 1|                14|                16|   11788|\n",
            "|1000008| P00249542|     M|26-35|        12|            C|                        4+|             1|                 1|                 5|                15|   19614|\n",
            "+-------+----------+------+-----+----------+-------------+--------------------------+--------------+------------------+------------------+------------------+--------+\n",
            "only showing top 20 rows\n",
            "\n"
          ]
        }
      ]
    },
    {
      "cell_type": "code",
      "source": [
        "purchase_test.show()"
      ],
      "metadata": {
        "colab": {
          "base_uri": "https://localhost:8080/"
        },
        "id": "jppMT6IvbgMQ",
        "outputId": "f0f57bca-93ad-4eb4-928d-04f4f5712186"
      },
      "execution_count": 6,
      "outputs": [
        {
          "output_type": "stream",
          "name": "stdout",
          "text": [
            "+-------+----------+------+-----+----------+-------------+--------------------------+--------------+------------------+------------------+------------------+\n",
            "|User_ID|Product_ID|Gender|  Age|Occupation|City_Category|Stay_In_Current_City_Years|Marital_Status|Product_Category_1|Product_Category_2|Product_Category_3|\n",
            "+-------+----------+------+-----+----------+-------------+--------------------------+--------------+------------------+------------------+------------------+\n",
            "|1000004| P00128942|     M|46-50|         7|            B|                         2|             1|                 1|                11|              NULL|\n",
            "|1000009| P00113442|     M|26-35|        17|            C|                         0|             0|                 3|                 5|              NULL|\n",
            "|1000010| P00288442|     F|36-45|         1|            B|                        4+|             1|                 5|                14|              NULL|\n",
            "|1000010| P00145342|     F|36-45|         1|            B|                        4+|             1|                 4|                 9|              NULL|\n",
            "|1000011| P00053842|     F|26-35|         1|            C|                         1|             0|                 4|                 5|                12|\n",
            "|1000013| P00350442|     M|46-50|         1|            C|                         3|             1|                 2|                 3|                15|\n",
            "|1000013| P00155442|     M|46-50|         1|            C|                         3|             1|                 1|                11|                15|\n",
            "|1000013|  P0094542|     M|46-50|         1|            C|                         3|             1|                 2|                 4|                 9|\n",
            "|1000015| P00161842|     M|26-35|         7|            A|                         1|             0|                10|                13|                16|\n",
            "|1000022| P00067942|     M|18-25|        15|            A|                        4+|             0|                 5|                14|              NULL|\n",
            "|1000026| P00046742|     M|26-35|         7|            B|                         2|             1|                 1|                 2|                15|\n",
            "|1000026| P00040042|     M|26-35|         7|            B|                         2|             1|                 5|              NULL|              NULL|\n",
            "|1000026| P00196542|     M|26-35|         7|            B|                         2|             1|                 5|                 8|                14|\n",
            "|1000026| P00004542|     M|26-35|         7|            B|                         2|             1|                 5|                 8|              NULL|\n",
            "|1000028| P00159542|     F|26-35|         1|            C|                         2|             1|                10|                15|                16|\n",
            "|1000029| P00111542|     M|36-45|         7|            C|                         1|             0|                 2|                17|              NULL|\n",
            "|1000033| P00121042|     M|46-50|         3|            A|                         1|             1|                15|              NULL|              NULL|\n",
            "|1000033| P00344442|     M|46-50|         3|            A|                         1|             1|                 5|                 8|                14|\n",
            "|1000034| P00265242|     F|18-25|         0|            A|                         0|             0|                 5|                 8|              NULL|\n",
            "|1000035|  P0096642|     M|46-50|         1|            C|                        4+|             1|                 2|                 3|                 4|\n",
            "+-------+----------+------+-----+----------+-------------+--------------------------+--------------+------------------+------------------+------------------+\n",
            "only showing top 20 rows\n",
            "\n"
          ]
        }
      ]
    },
    {
      "cell_type": "code",
      "source": [
        "purchase_train.printSchema()"
      ],
      "metadata": {
        "colab": {
          "base_uri": "https://localhost:8080/"
        },
        "id": "jMAzNEa3bjll",
        "outputId": "d7656a40-9a0e-43c7-9dc8-272b7585f13f"
      },
      "execution_count": 7,
      "outputs": [
        {
          "output_type": "stream",
          "name": "stdout",
          "text": [
            "root\n",
            " |-- User_ID: integer (nullable = true)\n",
            " |-- Product_ID: string (nullable = true)\n",
            " |-- Gender: string (nullable = true)\n",
            " |-- Age: string (nullable = true)\n",
            " |-- Occupation: integer (nullable = true)\n",
            " |-- City_Category: string (nullable = true)\n",
            " |-- Stay_In_Current_City_Years: string (nullable = true)\n",
            " |-- Marital_Status: integer (nullable = true)\n",
            " |-- Product_Category_1: integer (nullable = true)\n",
            " |-- Product_Category_2: integer (nullable = true)\n",
            " |-- Product_Category_3: integer (nullable = true)\n",
            " |-- Purchase: integer (nullable = true)\n",
            "\n"
          ]
        }
      ]
    },
    {
      "cell_type": "code",
      "source": [
        "#Average purchase amount\n",
        "average_purchase = purchase_train.groupBy(\"Product_ID\").agg(f.avg(\"purchase\").alias(\"Avarage_purchase\"))\n",
        "average_purchase.show()"
      ],
      "metadata": {
        "colab": {
          "base_uri": "https://localhost:8080/"
        },
        "id": "FPIQiVF8dPod",
        "outputId": "e0c2c09b-17d0-4181-e6b6-64fb28ed7afd"
      },
      "execution_count": 8,
      "outputs": [
        {
          "output_type": "stream",
          "name": "stdout",
          "text": [
            "+----------+------------------+\n",
            "|Product_ID|  Avarage_purchase|\n",
            "+----------+------------------+\n",
            "|  P0098242|12581.417721518987|\n",
            "| P00281742|            7972.0|\n",
            "| P00026042| 6745.601851851852|\n",
            "| P00015342| 10034.42857142857|\n",
            "| P00159842|10255.973684210527|\n",
            "| P00162642|            6359.0|\n",
            "| P00048442| 6990.714285714285|\n",
            "| P00078842|           8912.95|\n",
            "| P00313242| 7527.372093023256|\n",
            "| P00318342|           10732.8|\n",
            "|  P0096342| 6328.872340425532|\n",
            "| P00146342| 4951.136363636364|\n",
            "| P00180642|3247.4736842105262|\n",
            "| P00256142|            7093.5|\n",
            "| P00323242|          15783.25|\n",
            "| P00014542| 8122.818713450292|\n",
            "| P00331542| 7053.490566037736|\n",
            "| P00212242| 8396.680555555555|\n",
            "| P00165442| 9807.792452830188|\n",
            "| P00163342|12501.904761904761|\n",
            "+----------+------------------+\n",
            "only showing top 20 rows\n",
            "\n"
          ]
        }
      ]
    },
    {
      "cell_type": "code",
      "source": [
        "average_purchase.orderBy(\"Avarage_purchase\", ascending=False).show()\n"
      ],
      "metadata": {
        "colab": {
          "base_uri": "https://localhost:8080/"
        },
        "id": "ZtWP6hHLd97w",
        "outputId": "188f7306-d3c8-4074-dfa1-3f2ef630f550"
      },
      "execution_count": 9,
      "outputs": [
        {
          "output_type": "stream",
          "name": "stdout",
          "text": [
            "+----------+------------------+\n",
            "|Product_ID|  Avarage_purchase|\n",
            "+----------+------------------+\n",
            "| P00086242|        21262.7625|\n",
            "| P00107342|           21148.0|\n",
            "| P00085342|21020.238993710693|\n",
            "| P00272342|           20889.0|\n",
            "| P00162142|           20859.0|\n",
            "| P00188642| 20792.57894736842|\n",
            "| P00277342|           20725.0|\n",
            "| P00200642| 20597.97142857143|\n",
            "| P00116142|20526.117318435754|\n",
            "| P00311242|           20488.0|\n",
            "| P00119342| 20472.18181818182|\n",
            "| P00131842|           20398.0|\n",
            "| P00087042| 20297.21518987342|\n",
            "| P00117642|20222.083333333332|\n",
            "| P00052842|  20162.4350877193|\n",
            "| P00343842|         19634.875|\n",
            "| P00308042|           19206.0|\n",
            "| P00071442|19133.864485981307|\n",
            "| P00273342|          19048.25|\n",
            "| P00124742|19024.535714285714|\n",
            "+----------+------------------+\n",
            "only showing top 20 rows\n",
            "\n"
          ]
        }
      ]
    },
    {
      "cell_type": "markdown",
      "source": [
        "COUNTING AND REMOVING NULL VALUES"
      ],
      "metadata": {
        "id": "L4JLJhiItRBl"
      }
    },
    {
      "cell_type": "code",
      "source": [
        "#count null values\n",
        "purchase_train.select([f.count(f.when(f.isnull(c), c)).alias(c) for c in purchase_train.columns]).show()"
      ],
      "metadata": {
        "colab": {
          "base_uri": "https://localhost:8080/"
        },
        "id": "5AnVnkYneYdz",
        "outputId": "5f76f9ed-de11-487a-a1d9-78be4b638c52"
      },
      "execution_count": 10,
      "outputs": [
        {
          "output_type": "stream",
          "name": "stdout",
          "text": [
            "+-------+----------+------+---+----------+-------------+--------------------------+--------------+------------------+------------------+------------------+--------+\n",
            "|User_ID|Product_ID|Gender|Age|Occupation|City_Category|Stay_In_Current_City_Years|Marital_Status|Product_Category_1|Product_Category_2|Product_Category_3|Purchase|\n",
            "+-------+----------+------+---+----------+-------------+--------------------------+--------------+------------------+------------------+------------------+--------+\n",
            "|      0|         0|     0|  0|         0|            0|                         0|             0|                 0|             49069|            109769|       0|\n",
            "+-------+----------+------+---+----------+-------------+--------------------------+--------------+------------------+------------------+------------------+--------+\n",
            "\n"
          ]
        }
      ]
    },
    {
      "cell_type": "code",
      "source": [
        "purchase_test.select([f.count(f.when(f.isnull(c), c)).alias(c) for c in purchase_test.columns]).show()"
      ],
      "metadata": {
        "colab": {
          "base_uri": "https://localhost:8080/"
        },
        "id": "FZcuib3Vhu3-",
        "outputId": "960ebfc2-fd99-49fa-90b7-41a3bf25d1bf"
      },
      "execution_count": 11,
      "outputs": [
        {
          "output_type": "stream",
          "name": "stdout",
          "text": [
            "+-------+----------+------+---+----------+-------------+--------------------------+--------------+------------------+------------------+------------------+\n",
            "|User_ID|Product_ID|Gender|Age|Occupation|City_Category|Stay_In_Current_City_Years|Marital_Status|Product_Category_1|Product_Category_2|Product_Category_3|\n",
            "+-------+----------+------+---+----------+-------------+--------------------------+--------------+------------------+------------------+------------------+\n",
            "|      0|         0|     0|  0|         0|            0|                         0|             0|                 0|             72344|            162562|\n",
            "+-------+----------+------+---+----------+-------------+--------------------------+--------------+------------------+------------------+------------------+\n",
            "\n"
          ]
        }
      ]
    },
    {
      "cell_type": "code",
      "source": [
        "# count of cat2 and cat2\n",
        "purchase_train.groupBy(\"Product_Category_2\").agg(f.count(\"Product_Category_2\")).orderBy(\"count(Product_Category_2)\", ascending=False).show()\n",
        "purchase_train.groupBy(\"Product_Category_3\").agg(f.count(\"Product_Category_3\")).orderBy(\"count(Product_Category_3)\", ascending=False).show()"
      ],
      "metadata": {
        "colab": {
          "base_uri": "https://localhost:8080/"
        },
        "id": "0ThzeJvsiGYe",
        "outputId": "482724bf-cd2e-4bf6-836b-dd7de2b5f65e"
      },
      "execution_count": 12,
      "outputs": [
        {
          "output_type": "stream",
          "name": "stdout",
          "text": [
            "+------------------+-------------------------+\n",
            "|Product_Category_2|count(Product_Category_2)|\n",
            "+------------------+-------------------------+\n",
            "|                 8|                    18477|\n",
            "|                14|                    16004|\n",
            "|                 2|                    14152|\n",
            "|                16|                    12663|\n",
            "|                15|                    10847|\n",
            "|                 5|                     7612|\n",
            "|                 4|                     7474|\n",
            "|                 6|                     4737|\n",
            "|                11|                     4103|\n",
            "|                17|                     3885|\n",
            "|                13|                     3080|\n",
            "|                 9|                     1682|\n",
            "|                12|                     1641|\n",
            "|                10|                      869|\n",
            "|                 3|                      839|\n",
            "|                18|                      795|\n",
            "|                 7|                      177|\n",
            "|              NULL|                        0|\n",
            "+------------------+-------------------------+\n",
            "\n",
            "+------------------+-------------------------+\n",
            "|Product_Category_3|count(Product_Category_3)|\n",
            "+------------------+-------------------------+\n",
            "|                16|                     9386|\n",
            "|                15|                     8099|\n",
            "|                14|                     5315|\n",
            "|                17|                     4906|\n",
            "|                 5|                     4799|\n",
            "|                 8|                     3621|\n",
            "|                 9|                     3492|\n",
            "|                12|                     2701|\n",
            "|                13|                     1570|\n",
            "|                 6|                     1379|\n",
            "|                18|                     1325|\n",
            "|                 4|                      543|\n",
            "|                11|                      531|\n",
            "|                10|                      496|\n",
            "|                 3|                      174|\n",
            "|              NULL|                        0|\n",
            "+------------------+-------------------------+\n",
            "\n"
          ]
        }
      ]
    },
    {
      "cell_type": "code",
      "source": [
        "purchase_test.groupBy(\"Product_Category_2\").agg(f.count(\"Product_Category_2\")).orderBy(\"count(Product_Category_2)\", ascending=False).show()\n",
        "purchase_test.groupBy(\"Product_Category_3\").agg(f.count(\"Product_Category_3\")).orderBy(\"count(Product_Category_3)\", ascending=False).show()"
      ],
      "metadata": {
        "colab": {
          "base_uri": "https://localhost:8080/"
        },
        "id": "XYsbdMWrixCP",
        "outputId": "06907d12-b850-4465-81a4-e7579a76b041"
      },
      "execution_count": 13,
      "outputs": [
        {
          "output_type": "stream",
          "name": "stdout",
          "text": [
            "+------------------+-------------------------+\n",
            "|Product_Category_2|count(Product_Category_2)|\n",
            "+------------------+-------------------------+\n",
            "|                 8|                    27229|\n",
            "|                14|                    23726|\n",
            "|                 2|                    21281|\n",
            "|                16|                    18432|\n",
            "|                15|                    16259|\n",
            "|                 4|                    11028|\n",
            "|                 5|                    10930|\n",
            "|                 6|                     7109|\n",
            "|                11|                     6096|\n",
            "|                17|                     5784|\n",
            "|                13|                     4523|\n",
            "|                 9|                     2484|\n",
            "|                12|                     2273|\n",
            "|                10|                     1377|\n",
            "|                18|                     1257|\n",
            "|                 3|                     1239|\n",
            "|                 7|                      228|\n",
            "|              NULL|                        0|\n",
            "+------------------+-------------------------+\n",
            "\n",
            "+------------------+-------------------------+\n",
            "|Product_Category_3|count(Product_Category_3)|\n",
            "+------------------+-------------------------+\n",
            "|                16|                    13833|\n",
            "|                15|                    11955|\n",
            "|                14|                     7855|\n",
            "|                 5|                     7141|\n",
            "|                17|                     7116|\n",
            "|                 8|                     5299|\n",
            "|                 9|                     4953|\n",
            "|                12|                     3869|\n",
            "|                13|                     2390|\n",
            "|                 6|                     1998|\n",
            "|                18|                     1992|\n",
            "|                 4|                      816|\n",
            "|                11|                      780|\n",
            "|                10|                      775|\n",
            "|                 3|                      265|\n",
            "|              NULL|                        0|\n",
            "+------------------+-------------------------+\n",
            "\n"
          ]
        }
      ]
    },
    {
      "cell_type": "code",
      "source": [],
      "metadata": {
        "id": "zMTlYo1PmGzA"
      },
      "execution_count": 13,
      "outputs": []
    },
    {
      "cell_type": "code",
      "source": [
        "# fill with cat with most count\n",
        "purchase_train = purchase_train.na.fill({\"Product_Category_2\": 8, \"Product_Category_3\": 16})\n",
        "purchase_test = purchase_test.na.fill({\"Product_Category_2\": 8, \"Product_Category_3\": 16})"
      ],
      "metadata": {
        "id": "EZTgtId8lB92"
      },
      "execution_count": 14,
      "outputs": []
    },
    {
      "cell_type": "code",
      "source": [
        "# checking\n",
        "purchase_train.select([f.count(f.when(f.isnull(c), c)).alias(c) for c in purchase_train.columns]).show()\n",
        "purchase_test.select([f.count(f.when(f.isnull(c), c)).alias(c) for c in purchase_test.columns]).show()"
      ],
      "metadata": {
        "colab": {
          "base_uri": "https://localhost:8080/"
        },
        "id": "vjmKRzN1mjZm",
        "outputId": "96e615a8-9dcd-4c6b-a729-771f8d82d073"
      },
      "execution_count": 15,
      "outputs": [
        {
          "output_type": "stream",
          "name": "stdout",
          "text": [
            "+-------+----------+------+---+----------+-------------+--------------------------+--------------+------------------+------------------+------------------+--------+\n",
            "|User_ID|Product_ID|Gender|Age|Occupation|City_Category|Stay_In_Current_City_Years|Marital_Status|Product_Category_1|Product_Category_2|Product_Category_3|Purchase|\n",
            "+-------+----------+------+---+----------+-------------+--------------------------+--------------+------------------+------------------+------------------+--------+\n",
            "|      0|         0|     0|  0|         0|            0|                         0|             0|                 0|                 0|                 0|       0|\n",
            "+-------+----------+------+---+----------+-------------+--------------------------+--------------+------------------+------------------+------------------+--------+\n",
            "\n",
            "+-------+----------+------+---+----------+-------------+--------------------------+--------------+------------------+------------------+------------------+\n",
            "|User_ID|Product_ID|Gender|Age|Occupation|City_Category|Stay_In_Current_City_Years|Marital_Status|Product_Category_1|Product_Category_2|Product_Category_3|\n",
            "+-------+----------+------+---+----------+-------------+--------------------------+--------------+------------------+------------------+------------------+\n",
            "|      0|         0|     0|  0|         0|            0|                         0|             0|                 0|                 0|                 0|\n",
            "+-------+----------+------+---+----------+-------------+--------------------------+--------------+------------------+------------------+------------------+\n",
            "\n"
          ]
        }
      ]
    },
    {
      "cell_type": "markdown",
      "source": [
        "CHECKING FOR DISTINCT VALUES"
      ],
      "metadata": {
        "id": "hG3m2gkwvTy3"
      }
    },
    {
      "cell_type": "code",
      "source": [
        "# distinct values in each column\n",
        "purchase_train.agg(*(f.countDistinct(f.col(c)).alias(c) for c in purchase_train.columns)).show()"
      ],
      "metadata": {
        "colab": {
          "base_uri": "https://localhost:8080/"
        },
        "id": "Vy386_MCi-7R",
        "outputId": "ffd071db-e283-43f3-a629-2242a5c6a154"
      },
      "execution_count": 16,
      "outputs": [
        {
          "output_type": "stream",
          "name": "stdout",
          "text": [
            "+-------+----------+------+---+----------+-------------+--------------------------+--------------+------------------+------------------+------------------+--------+\n",
            "|User_ID|Product_ID|Gender|Age|Occupation|City_Category|Stay_In_Current_City_Years|Marital_Status|Product_Category_1|Product_Category_2|Product_Category_3|Purchase|\n",
            "+-------+----------+------+---+----------+-------------+--------------------------+--------------+------------------+------------------+------------------+--------+\n",
            "|   5879|      3428|     2|  7|        21|            3|                         5|             2|                18|                17|                15|   15197|\n",
            "+-------+----------+------+---+----------+-------------+--------------------------+--------------+------------------+------------------+------------------+--------+\n",
            "\n"
          ]
        }
      ]
    },
    {
      "cell_type": "code",
      "source": [
        "purchase_test.agg(*(f.countDistinct(f.col(c)).alias(c) for c in purchase_test.columns)).show()"
      ],
      "metadata": {
        "colab": {
          "base_uri": "https://localhost:8080/"
        },
        "id": "DBdCAAD9u6c6",
        "outputId": "f098fb26-ef23-498b-ea02-28e5dbc4c5d9"
      },
      "execution_count": 17,
      "outputs": [
        {
          "output_type": "stream",
          "name": "stdout",
          "text": [
            "+-------+----------+------+---+----------+-------------+--------------------------+--------------+------------------+------------------+------------------+\n",
            "|User_ID|Product_ID|Gender|Age|Occupation|City_Category|Stay_In_Current_City_Years|Marital_Status|Product_Category_1|Product_Category_2|Product_Category_3|\n",
            "+-------+----------+------+---+----------+-------------+--------------------------+--------------+------------------+------------------+------------------+\n",
            "|   5891|      3491|     2|  7|        21|            3|                         5|             2|                18|                17|                15|\n",
            "+-------+----------+------+---+----------+-------------+--------------------------+--------------+------------------+------------------+------------------+\n",
            "\n"
          ]
        }
      ]
    },
    {
      "cell_type": "markdown",
      "source": [
        "Count category values within each of the following column:\n",
        "\n",
        " ● Gender\n",
        "\n",
        " ● Age\n",
        "\n",
        " ● City_Category\n",
        "\n",
        " ● Stay_In_Current_City_Years\n",
        "\n",
        "● **Marital_Status**"
      ],
      "metadata": {
        "id": "Iv2ns2H8xWMk"
      }
    },
    {
      "cell_type": "code",
      "source": [
        "#Count gender\n",
        "purchase_train.groupBy(\"Gender\").agg(f.count(\"Gender\")).orderBy(\"count(Gender)\", ascending=False).show()"
      ],
      "metadata": {
        "colab": {
          "base_uri": "https://localhost:8080/"
        },
        "id": "UJ_bg3Ltu8TH",
        "outputId": "a234a3e8-b3d2-4c72-90c2-c0aab04ce98b"
      },
      "execution_count": 18,
      "outputs": [
        {
          "output_type": "stream",
          "name": "stdout",
          "text": [
            "+------+-------------+\n",
            "|Gender|count(Gender)|\n",
            "+------+-------------+\n",
            "|     M|       119217|\n",
            "|     F|        38889|\n",
            "+------+-------------+\n",
            "\n"
          ]
        }
      ]
    },
    {
      "cell_type": "code",
      "source": [
        "#Count age\n",
        "purchase_train.groupBy(\"Age\").agg(f.count(\"Age\")).orderBy(\"count(Age)\", ascending=False).show()"
      ],
      "metadata": {
        "colab": {
          "base_uri": "https://localhost:8080/"
        },
        "id": "fQLbPSwWx3w8",
        "outputId": "f82b24bf-0083-4bf2-e14a-dff0ce4970cd"
      },
      "execution_count": 19,
      "outputs": [
        {
          "output_type": "stream",
          "name": "stdout",
          "text": [
            "+-----+----------+\n",
            "|  Age|count(Age)|\n",
            "+-----+----------+\n",
            "|26-35|     62940|\n",
            "|36-45|     31559|\n",
            "|18-25|     29064|\n",
            "|46-50|     13060|\n",
            "|51-55|     11106|\n",
            "|  55+|      6094|\n",
            "| 0-17|      4283|\n",
            "+-----+----------+\n",
            "\n"
          ]
        }
      ]
    },
    {
      "cell_type": "code",
      "source": [
        "#Count city_category\n",
        "purchase_train.groupBy(\"City_Category\").agg(f.count(\"City_Category\")).orderBy(\"count(City_Category)\", ascending=False).show()"
      ],
      "metadata": {
        "colab": {
          "base_uri": "https://localhost:8080/"
        },
        "id": "NvJyiM0RyBrc",
        "outputId": "c81a88e9-33c0-4d7b-bbaa-39b7ef3324d2"
      },
      "execution_count": 20,
      "outputs": [
        {
          "output_type": "stream",
          "name": "stdout",
          "text": [
            "+-------------+--------------------+\n",
            "|City_Category|count(City_Category)|\n",
            "+-------------+--------------------+\n",
            "|            B|               66617|\n",
            "|            C|               48990|\n",
            "|            A|               42499|\n",
            "+-------------+--------------------+\n",
            "\n"
          ]
        }
      ]
    },
    {
      "cell_type": "code",
      "source": [
        "#Count Stay_In_Current_City_Years\n",
        "purchase_train.groupBy(\"Stay_In_Current_City_Years\").agg(f.count(\"Stay_In_Current_City_Years\")).orderBy(\"count(Stay_In_Current_City_Years)\", ascending=False).show()"
      ],
      "metadata": {
        "colab": {
          "base_uri": "https://localhost:8080/"
        },
        "id": "59Fz-zaKyS__",
        "outputId": "e8fcf34e-da16-4dd9-ae6b-b8c061f43a54"
      },
      "execution_count": 21,
      "outputs": [
        {
          "output_type": "stream",
          "name": "stdout",
          "text": [
            "+--------------------------+---------------------------------+\n",
            "|Stay_In_Current_City_Years|count(Stay_In_Current_City_Years)|\n",
            "+--------------------------+---------------------------------+\n",
            "|                         1|                            55521|\n",
            "|                         2|                            29254|\n",
            "|                         3|                            27288|\n",
            "|                        4+|                            24562|\n",
            "|                         0|                            21481|\n",
            "+--------------------------+---------------------------------+\n",
            "\n"
          ]
        }
      ]
    },
    {
      "cell_type": "code",
      "source": [
        "#Count Marital_status\n",
        "purchase_train.groupBy(\"Marital_status\").agg(f.count(\"Marital_Status\")).orderBy(\"count(Marital_Status)\", ascending=False).show()"
      ],
      "metadata": {
        "colab": {
          "base_uri": "https://localhost:8080/"
        },
        "id": "3ZFUbgMgynK9",
        "outputId": "8101a549-9c44-4160-808c-c616f24b35b2"
      },
      "execution_count": 22,
      "outputs": [
        {
          "output_type": "stream",
          "name": "stdout",
          "text": [
            "+--------------+---------------------+\n",
            "|Marital_status|count(Marital_Status)|\n",
            "+--------------+---------------------+\n",
            "|             0|                93265|\n",
            "|             1|                64841|\n",
            "+--------------+---------------------+\n",
            "\n"
          ]
        }
      ]
    },
    {
      "cell_type": "markdown",
      "source": [
        "Calculate average Purchase for each of the following columns:\n",
        "\n",
        " ● Gender\n",
        "\n",
        " ● Age\n",
        "\n",
        " ● City_Category\n",
        "\n",
        " ● Stay_In_Current_City_Years\n",
        "\n",
        " ● Marital_Status"
      ],
      "metadata": {
        "id": "P-I7rQ5by89_"
      }
    },
    {
      "cell_type": "code",
      "source": [
        "# avrage purchase for gender\n",
        "purchase_train.groupBy(\"Gender\").agg(f.round(f.avg(\"Purchase\"),2).alias(\"Average_purchase\")).orderBy(\"Average_Purchase\", ascending=False).show()"
      ],
      "metadata": {
        "colab": {
          "base_uri": "https://localhost:8080/"
        },
        "id": "ukigUHXey4vU",
        "outputId": "bdce47d7-b4a0-4a6e-86f7-8307323ddb1b"
      },
      "execution_count": 23,
      "outputs": [
        {
          "output_type": "stream",
          "name": "stdout",
          "text": [
            "+------+----------------+\n",
            "|Gender|Average_purchase|\n",
            "+------+----------------+\n",
            "|     M|         9481.98|\n",
            "|     F|         8796.77|\n",
            "+------+----------------+\n",
            "\n"
          ]
        }
      ]
    },
    {
      "cell_type": "code",
      "source": [
        "# avrage purchase forage\n",
        "purchase_train.groupBy(\"Age\").agg(f.round(f.avg(\"Purchase\"),2).alias(\"Average_purchase\")).orderBy(\"Average_Purchase\", ascending=False).show()"
      ],
      "metadata": {
        "colab": {
          "base_uri": "https://localhost:8080/"
        },
        "id": "QTR5w5k_z1tY",
        "outputId": "91c48cf1-7ae2-499d-af26-4d3575b281de"
      },
      "execution_count": 24,
      "outputs": [
        {
          "output_type": "stream",
          "name": "stdout",
          "text": [
            "+-----+----------------+\n",
            "|  Age|Average_purchase|\n",
            "+-----+----------------+\n",
            "|51-55|         9602.01|\n",
            "|  55+|         9390.19|\n",
            "|36-45|          9388.2|\n",
            "|26-35|         9299.17|\n",
            "|46-50|         9263.53|\n",
            "|18-25|         9187.43|\n",
            "| 0-17|         9122.21|\n",
            "+-----+----------------+\n",
            "\n"
          ]
        }
      ]
    },
    {
      "cell_type": "code",
      "source": [
        "# avrage purchase for city category\n",
        "purchase_train.groupBy(\"City_Category\").agg(f.round(f.avg(\"Purchase\"),2).alias(\"Average_purchase\")).orderBy(\"Average_Purchase\", ascending=False).show()"
      ],
      "metadata": {
        "colab": {
          "base_uri": "https://localhost:8080/"
        },
        "id": "1hMg0IUC0OUP",
        "outputId": "19e5f4c3-c60d-4398-ca23-0f928c8e9246"
      },
      "execution_count": 25,
      "outputs": [
        {
          "output_type": "stream",
          "name": "stdout",
          "text": [
            "+-------------+----------------+\n",
            "|City_Category|Average_purchase|\n",
            "+-------------+----------------+\n",
            "|            C|         9835.79|\n",
            "|            B|         9177.59|\n",
            "|            A|         8924.26|\n",
            "+-------------+----------------+\n",
            "\n"
          ]
        }
      ]
    },
    {
      "cell_type": "code",
      "source": [
        "# avrage purchase for stayer in current city years\n",
        "purchase_train.groupBy(\"Stay_In_Current_City_Years\").agg(f.round(f.avg(\"Purchase\"),2).alias(\"Average_purchase\")).orderBy(\"Average_Purchase\", ascending=False).show()"
      ],
      "metadata": {
        "colab": {
          "base_uri": "https://localhost:8080/"
        },
        "id": "sEMgCNVd0VGR",
        "outputId": "6bd62f08-47d9-474f-f2b6-a161b8171afb"
      },
      "execution_count": 26,
      "outputs": [
        {
          "output_type": "stream",
          "name": "stdout",
          "text": [
            "+--------------------------+----------------+\n",
            "|Stay_In_Current_City_Years|Average_purchase|\n",
            "+--------------------------+----------------+\n",
            "|                         2|         9375.14|\n",
            "|                         3|         9322.38|\n",
            "|                         1|          9321.7|\n",
            "|                        4+|         9304.99|\n",
            "|                         0|          9206.4|\n",
            "+--------------------------+----------------+\n",
            "\n"
          ]
        }
      ]
    },
    {
      "cell_type": "code",
      "source": [
        "# avrage purchase for marital status\n",
        "purchase_train.groupBy(\"Marital_Status\").agg(f.round(f.avg(\"Purchase\"),2).alias(\"Average_purchase\")).orderBy(\"Average_Purchase\", ascending=False).show()"
      ],
      "metadata": {
        "colab": {
          "base_uri": "https://localhost:8080/"
        },
        "id": "A0mRXawu0emH",
        "outputId": "2e55e75e-67a8-4042-a5ea-178de0c1b4d9"
      },
      "execution_count": 27,
      "outputs": [
        {
          "output_type": "stream",
          "name": "stdout",
          "text": [
            "+--------------+----------------+\n",
            "|Marital_Status|Average_purchase|\n",
            "+--------------+----------------+\n",
            "|             1|         9327.63|\n",
            "|             0|         9303.58|\n",
            "+--------------+----------------+\n",
            "\n"
          ]
        }
      ]
    },
    {
      "cell_type": "markdown",
      "source": [
        "Label encode the following columns:\n",
        "\n",
        " ● Age\n",
        "\n",
        " ● Gender\n",
        "\n",
        " ● Stay_In_Current_City_Years\n",
        "\n",
        " ● City_Category"
      ],
      "metadata": {
        "id": "f4cd3j-30wYE"
      }
    },
    {
      "cell_type": "code",
      "source": [
        "#import libraries for label encoding\n",
        "from pyspark.ml.feature import StringIndexer, OneHotEncoder, VectorAssembler\n",
        "from pyspark.ml import pipeline"
      ],
      "metadata": {
        "id": "zYiIjkfr0lyp"
      },
      "execution_count": 28,
      "outputs": []
    },
    {
      "cell_type": "code",
      "source": [
        "# label coding\n",
        "SI_Age = StringIndexer(inputCol=\"Age\", outputCol=\"Age_indexed\", handleInvalid=\"skip\")\n",
        "SI_Gender = StringIndexer(inputCol=\"Gender\", outputCol=\"Gender_indexed\", handleInvalid=\"skip\")\n",
        "SI_Stay_In_Current_city_Years = StringIndexer(inputCol=\"Stay_In_Current_City_Years\", outputCol=\"Stay_indexed\", handleInvalid=\"skip\")\n",
        "SI_city_Category = StringIndexer(inputCol=\"City_Category\", outputCol=\"City_indexed\", handleInvalid=\"skip\")"
      ],
      "metadata": {
        "id": "jY43puznDEPo"
      },
      "execution_count": 29,
      "outputs": []
    },
    {
      "cell_type": "code",
      "source": [
        "SI_Age_Obj = SI_Age.fit(purchase_train)\n",
        "SI_Gender_Obj = SI_Gender.fit(purchase_train)\n",
        "SI_Stay_In_Current_city_Years_Obj = SI_Stay_In_Current_city_Years.fit(purchase_train)\n",
        "SI_city_Obj = SI_city_Category.fit(purchase_train)"
      ],
      "metadata": {
        "id": "WYLQCBeNFfKi"
      },
      "execution_count": 30,
      "outputs": []
    },
    {
      "cell_type": "code",
      "source": [
        "purchase_train_encoded = SI_Age_Obj.transform(purchase_train)\n",
        "purchase_train_encoded = SI_Gender_Obj.transform(purchase_train_encoded)\n",
        "purchase_train_encoded = SI_Stay_In_Current_city_Years_Obj.transform(purchase_train_encoded)\n",
        "purchase_train_encoded = SI_city_Obj.transform(purchase_train_encoded)"
      ],
      "metadata": {
        "id": "pjxob4kMH3FK"
      },
      "execution_count": 31,
      "outputs": []
    },
    {
      "cell_type": "code",
      "source": [
        "purchase_test_encoded = SI_Age_Obj.transform(purchase_test)\n",
        "purchase_test_encoded = SI_Gender_Obj.transform(purchase_test_encoded)\n",
        "purchase_test_encoded = SI_Stay_In_Current_city_Years_Obj.transform(purchase_test_encoded)\n",
        "purchase_test_encoded = SI_city_Obj.transform(purchase_test_encoded)"
      ],
      "metadata": {
        "id": "DYnwsWKwVwso"
      },
      "execution_count": 32,
      "outputs": []
    },
    {
      "cell_type": "code",
      "source": [
        "purchase_train_encoded.show()"
      ],
      "metadata": {
        "id": "IM_grXz9WVWa",
        "colab": {
          "base_uri": "https://localhost:8080/"
        },
        "outputId": "2bf23545-5749-452f-9ec7-1ee936a59068"
      },
      "execution_count": 33,
      "outputs": [
        {
          "output_type": "stream",
          "name": "stdout",
          "text": [
            "+-------+----------+------+-----+----------+-------------+--------------------------+--------------+------------------+------------------+------------------+--------+-----------+--------------+------------+------------+\n",
            "|User_ID|Product_ID|Gender|  Age|Occupation|City_Category|Stay_In_Current_City_Years|Marital_Status|Product_Category_1|Product_Category_2|Product_Category_3|Purchase|Age_indexed|Gender_indexed|Stay_indexed|City_indexed|\n",
            "+-------+----------+------+-----+----------+-------------+--------------------------+--------------+------------------+------------------+------------------+--------+-----------+--------------+------------+------------+\n",
            "|1000001| P00069042|     F| 0-17|        10|            A|                         2|             0|                 3|                 8|                16|    8370|        6.0|           1.0|         1.0|         2.0|\n",
            "|1000001| P00248942|     F| 0-17|        10|            A|                         2|             0|                 1|                 6|                14|   15200|        6.0|           1.0|         1.0|         2.0|\n",
            "|1000001| P00087842|     F| 0-17|        10|            A|                         2|             0|                12|                 8|                16|    1422|        6.0|           1.0|         1.0|         2.0|\n",
            "|1000001| P00085442|     F| 0-17|        10|            A|                         2|             0|                12|                14|                16|    1057|        6.0|           1.0|         1.0|         2.0|\n",
            "|1000002| P00285442|     M|  55+|        16|            C|                        4+|             0|                 8|                 8|                16|    7969|        5.0|           0.0|         3.0|         1.0|\n",
            "|1000003| P00193542|     M|26-35|        15|            A|                         3|             0|                 1|                 2|                16|   15227|        0.0|           0.0|         2.0|         2.0|\n",
            "|1000004| P00184942|     M|46-50|         7|            B|                         2|             1|                 1|                 8|                17|   19215|        3.0|           0.0|         1.0|         0.0|\n",
            "|1000004| P00346142|     M|46-50|         7|            B|                         2|             1|                 1|                15|                16|   15854|        3.0|           0.0|         1.0|         0.0|\n",
            "|1000004|  P0097242|     M|46-50|         7|            B|                         2|             1|                 1|                16|                16|   15686|        3.0|           0.0|         1.0|         0.0|\n",
            "|1000005| P00274942|     M|26-35|        20|            A|                         1|             1|                 8|                 8|                16|    7871|        0.0|           0.0|         0.0|         2.0|\n",
            "|1000005| P00251242|     M|26-35|        20|            A|                         1|             1|                 5|                11|                16|    5254|        0.0|           0.0|         0.0|         2.0|\n",
            "|1000005| P00014542|     M|26-35|        20|            A|                         1|             1|                 8|                 8|                16|    3957|        0.0|           0.0|         0.0|         2.0|\n",
            "|1000005| P00031342|     M|26-35|        20|            A|                         1|             1|                 8|                 8|                16|    6073|        0.0|           0.0|         0.0|         2.0|\n",
            "|1000005| P00145042|     M|26-35|        20|            A|                         1|             1|                 1|                 2|                 5|   15665|        0.0|           0.0|         0.0|         2.0|\n",
            "|1000006| P00231342|     F|51-55|         9|            A|                         1|             0|                 5|                 8|                14|    5378|        4.0|           1.0|         0.0|         2.0|\n",
            "|1000006| P00190242|     F|51-55|         9|            A|                         1|             0|                 4|                 5|                16|    2079|        4.0|           1.0|         0.0|         2.0|\n",
            "|1000006|  P0096642|     F|51-55|         9|            A|                         1|             0|                 2|                 3|                 4|   13055|        4.0|           1.0|         0.0|         2.0|\n",
            "|1000006| P00058442|     F|51-55|         9|            A|                         1|             0|                 5|                14|                16|    8851|        4.0|           1.0|         0.0|         2.0|\n",
            "|1000007| P00036842|     M|36-45|         1|            B|                         1|             1|                 1|                14|                16|   11788|        1.0|           0.0|         0.0|         0.0|\n",
            "|1000008| P00249542|     M|26-35|        12|            C|                        4+|             1|                 1|                 5|                15|   19614|        0.0|           0.0|         3.0|         1.0|\n",
            "+-------+----------+------+-----+----------+-------------+--------------------------+--------------+------------------+------------------+------------------+--------+-----------+--------------+------------+------------+\n",
            "only showing top 20 rows\n",
            "\n"
          ]
        }
      ]
    },
    {
      "cell_type": "markdown",
      "source": [
        "One-Hot encode following columns:\n",
        "\n",
        " ● Gender\n",
        "\n",
        " ● City_Category\n",
        "\n",
        " ● Occupation"
      ],
      "metadata": {
        "id": "CXFinItfXz7d"
      }
    },
    {
      "cell_type": "code",
      "source": [
        "purchase_train_encoded.columns"
      ],
      "metadata": {
        "colab": {
          "base_uri": "https://localhost:8080/"
        },
        "id": "sE59ECgEjd_4",
        "outputId": "a79efe18-707f-4cee-96bf-6845447ca323"
      },
      "execution_count": 34,
      "outputs": [
        {
          "output_type": "execute_result",
          "data": {
            "text/plain": [
              "['User_ID',\n",
              " 'Product_ID',\n",
              " 'Gender',\n",
              " 'Age',\n",
              " 'Occupation',\n",
              " 'City_Category',\n",
              " 'Stay_In_Current_City_Years',\n",
              " 'Marital_Status',\n",
              " 'Product_Category_1',\n",
              " 'Product_Category_2',\n",
              " 'Product_Category_3',\n",
              " 'Purchase',\n",
              " 'Age_indexed',\n",
              " 'Gender_indexed',\n",
              " 'Stay_indexed',\n",
              " 'City_indexed']"
            ]
          },
          "metadata": {},
          "execution_count": 34
        }
      ]
    },
    {
      "cell_type": "code",
      "source": [
        "OHE_train = OneHotEncoder(inputCols = [\"Gender_indexed\",\n",
        "                                       \"City_indexed\",\n",
        "                                       \"Occupation\"],\n",
        "                          outputCols = [\"Gender_ohe\",\n",
        "                                        \"City_Category_ohe\",\n",
        "                                        \"Occupation_ohe\"])"
      ],
      "metadata": {
        "id": "GUXJxJjATrna"
      },
      "execution_count": 35,
      "outputs": []
    },
    {
      "cell_type": "code",
      "source": [
        "OHE_Obj = OHE_train.fit(purchase_train_encoded)"
      ],
      "metadata": {
        "id": "geCmLKCfidqG"
      },
      "execution_count": 36,
      "outputs": []
    },
    {
      "cell_type": "code",
      "source": [
        "purchase_train_encoded = OHE_Obj.transform(purchase_train_encoded)\n",
        "purchase_train_encoded.show()"
      ],
      "metadata": {
        "colab": {
          "base_uri": "https://localhost:8080/"
        },
        "id": "PJ-5ZwcOiztI",
        "outputId": "95a2b8bf-4666-4099-9324-3600bd57717f"
      },
      "execution_count": 37,
      "outputs": [
        {
          "output_type": "stream",
          "name": "stdout",
          "text": [
            "+-------+----------+------+-----+----------+-------------+--------------------------+--------------+------------------+------------------+------------------+--------+-----------+--------------+------------+------------+-------------+-----------------+---------------+\n",
            "|User_ID|Product_ID|Gender|  Age|Occupation|City_Category|Stay_In_Current_City_Years|Marital_Status|Product_Category_1|Product_Category_2|Product_Category_3|Purchase|Age_indexed|Gender_indexed|Stay_indexed|City_indexed|   Gender_ohe|City_Category_ohe| Occupation_ohe|\n",
            "+-------+----------+------+-----+----------+-------------+--------------------------+--------------+------------------+------------------+------------------+--------+-----------+--------------+------------+------------+-------------+-----------------+---------------+\n",
            "|1000001| P00069042|     F| 0-17|        10|            A|                         2|             0|                 3|                 8|                16|    8370|        6.0|           1.0|         1.0|         2.0|    (1,[],[])|        (2,[],[])|(20,[10],[1.0])|\n",
            "|1000001| P00248942|     F| 0-17|        10|            A|                         2|             0|                 1|                 6|                14|   15200|        6.0|           1.0|         1.0|         2.0|    (1,[],[])|        (2,[],[])|(20,[10],[1.0])|\n",
            "|1000001| P00087842|     F| 0-17|        10|            A|                         2|             0|                12|                 8|                16|    1422|        6.0|           1.0|         1.0|         2.0|    (1,[],[])|        (2,[],[])|(20,[10],[1.0])|\n",
            "|1000001| P00085442|     F| 0-17|        10|            A|                         2|             0|                12|                14|                16|    1057|        6.0|           1.0|         1.0|         2.0|    (1,[],[])|        (2,[],[])|(20,[10],[1.0])|\n",
            "|1000002| P00285442|     M|  55+|        16|            C|                        4+|             0|                 8|                 8|                16|    7969|        5.0|           0.0|         3.0|         1.0|(1,[0],[1.0])|    (2,[1],[1.0])|(20,[16],[1.0])|\n",
            "|1000003| P00193542|     M|26-35|        15|            A|                         3|             0|                 1|                 2|                16|   15227|        0.0|           0.0|         2.0|         2.0|(1,[0],[1.0])|        (2,[],[])|(20,[15],[1.0])|\n",
            "|1000004| P00184942|     M|46-50|         7|            B|                         2|             1|                 1|                 8|                17|   19215|        3.0|           0.0|         1.0|         0.0|(1,[0],[1.0])|    (2,[0],[1.0])| (20,[7],[1.0])|\n",
            "|1000004| P00346142|     M|46-50|         7|            B|                         2|             1|                 1|                15|                16|   15854|        3.0|           0.0|         1.0|         0.0|(1,[0],[1.0])|    (2,[0],[1.0])| (20,[7],[1.0])|\n",
            "|1000004|  P0097242|     M|46-50|         7|            B|                         2|             1|                 1|                16|                16|   15686|        3.0|           0.0|         1.0|         0.0|(1,[0],[1.0])|    (2,[0],[1.0])| (20,[7],[1.0])|\n",
            "|1000005| P00274942|     M|26-35|        20|            A|                         1|             1|                 8|                 8|                16|    7871|        0.0|           0.0|         0.0|         2.0|(1,[0],[1.0])|        (2,[],[])|     (20,[],[])|\n",
            "|1000005| P00251242|     M|26-35|        20|            A|                         1|             1|                 5|                11|                16|    5254|        0.0|           0.0|         0.0|         2.0|(1,[0],[1.0])|        (2,[],[])|     (20,[],[])|\n",
            "|1000005| P00014542|     M|26-35|        20|            A|                         1|             1|                 8|                 8|                16|    3957|        0.0|           0.0|         0.0|         2.0|(1,[0],[1.0])|        (2,[],[])|     (20,[],[])|\n",
            "|1000005| P00031342|     M|26-35|        20|            A|                         1|             1|                 8|                 8|                16|    6073|        0.0|           0.0|         0.0|         2.0|(1,[0],[1.0])|        (2,[],[])|     (20,[],[])|\n",
            "|1000005| P00145042|     M|26-35|        20|            A|                         1|             1|                 1|                 2|                 5|   15665|        0.0|           0.0|         0.0|         2.0|(1,[0],[1.0])|        (2,[],[])|     (20,[],[])|\n",
            "|1000006| P00231342|     F|51-55|         9|            A|                         1|             0|                 5|                 8|                14|    5378|        4.0|           1.0|         0.0|         2.0|    (1,[],[])|        (2,[],[])| (20,[9],[1.0])|\n",
            "|1000006| P00190242|     F|51-55|         9|            A|                         1|             0|                 4|                 5|                16|    2079|        4.0|           1.0|         0.0|         2.0|    (1,[],[])|        (2,[],[])| (20,[9],[1.0])|\n",
            "|1000006|  P0096642|     F|51-55|         9|            A|                         1|             0|                 2|                 3|                 4|   13055|        4.0|           1.0|         0.0|         2.0|    (1,[],[])|        (2,[],[])| (20,[9],[1.0])|\n",
            "|1000006| P00058442|     F|51-55|         9|            A|                         1|             0|                 5|                14|                16|    8851|        4.0|           1.0|         0.0|         2.0|    (1,[],[])|        (2,[],[])| (20,[9],[1.0])|\n",
            "|1000007| P00036842|     M|36-45|         1|            B|                         1|             1|                 1|                14|                16|   11788|        1.0|           0.0|         0.0|         0.0|(1,[0],[1.0])|    (2,[0],[1.0])| (20,[1],[1.0])|\n",
            "|1000008| P00249542|     M|26-35|        12|            C|                        4+|             1|                 1|                 5|                15|   19614|        0.0|           0.0|         3.0|         1.0|(1,[0],[1.0])|    (2,[1],[1.0])|(20,[12],[1.0])|\n",
            "+-------+----------+------+-----+----------+-------------+--------------------------+--------------+------------------+------------------+------------------+--------+-----------+--------------+------------+------------+-------------+-----------------+---------------+\n",
            "only showing top 20 rows\n",
            "\n"
          ]
        }
      ]
    },
    {
      "cell_type": "code",
      "source": [
        "purchase_test_encoded = OHE_Obj.transform(purchase_test_encoded)"
      ],
      "metadata": {
        "id": "rbawBqFQmdxG"
      },
      "execution_count": 38,
      "outputs": []
    },
    {
      "cell_type": "code",
      "source": [
        "purchase_train_encoded.columns"
      ],
      "metadata": {
        "colab": {
          "base_uri": "https://localhost:8080/"
        },
        "id": "uhFy107xm0xe",
        "outputId": "1534de22-10b5-4b0f-90b5-956d5c5c3af7"
      },
      "execution_count": 39,
      "outputs": [
        {
          "output_type": "execute_result",
          "data": {
            "text/plain": [
              "['User_ID',\n",
              " 'Product_ID',\n",
              " 'Gender',\n",
              " 'Age',\n",
              " 'Occupation',\n",
              " 'City_Category',\n",
              " 'Stay_In_Current_City_Years',\n",
              " 'Marital_Status',\n",
              " 'Product_Category_1',\n",
              " 'Product_Category_2',\n",
              " 'Product_Category_3',\n",
              " 'Purchase',\n",
              " 'Age_indexed',\n",
              " 'Gender_indexed',\n",
              " 'Stay_indexed',\n",
              " 'City_indexed',\n",
              " 'Gender_ohe',\n",
              " 'City_Category_ohe',\n",
              " 'Occupation_ohe']"
            ]
          },
          "metadata": {},
          "execution_count": 39
        }
      ]
    },
    {
      "cell_type": "markdown",
      "source": [
        "Build a baseline model using any of the ML algorithms."
      ],
      "metadata": {
        "id": "Yp4S50ws8cZN"
      }
    },
    {
      "cell_type": "code",
      "source": [
        "assembler = VectorAssembler(\n",
        "    inputCols=[\n",
        "        'Age_indexed',\n",
        "        'Stay_indexed',\n",
        "        'Product_Category_1',\n",
        "        'Product_Category_2',\n",
        "        'Product_Category_3',\n",
        "        'Marital_Status',\n",
        "        'Gender_ohe',\n",
        "        'City_Category_ohe',\n",
        "        'Occupation_ohe'\n",
        "    ],\n",
        "    outputCol='features'\n",
        ")"
      ],
      "metadata": {
        "id": "7cQ0sEgooO-q"
      },
      "execution_count": 40,
      "outputs": []
    },
    {
      "cell_type": "code",
      "source": [
        "purchase_train_encoded = assembler.transform(purchase_train_encoded)\n",
        "purchase_test_encoded = assembler.transform(purchase_test_encoded)"
      ],
      "metadata": {
        "id": "An0jPQjWql6C"
      },
      "execution_count": 41,
      "outputs": []
    },
    {
      "cell_type": "code",
      "source": [
        "purchase_train_encoded.select(\"features\").show()"
      ],
      "metadata": {
        "colab": {
          "base_uri": "https://localhost:8080/"
        },
        "id": "yujRofLdq_ZD",
        "outputId": "8cef7def-821c-445c-a9f8-33ca62e6a38f"
      },
      "execution_count": 42,
      "outputs": [
        {
          "output_type": "stream",
          "name": "stdout",
          "text": [
            "+--------------------+\n",
            "|            features|\n",
            "+--------------------+\n",
            "|(29,[0,1,2,3,4,19...|\n",
            "|(29,[0,1,2,3,4,19...|\n",
            "|(29,[0,1,2,3,4,19...|\n",
            "|(29,[0,1,2,3,4,19...|\n",
            "|(29,[0,1,2,3,4,6,...|\n",
            "|(29,[1,2,3,4,6,24...|\n",
            "|(29,[0,1,2,3,4,5,...|\n",
            "|(29,[0,1,2,3,4,5,...|\n",
            "|(29,[0,1,2,3,4,5,...|\n",
            "|(29,[2,3,4,5,6],[...|\n",
            "|(29,[2,3,4,5,6],[...|\n",
            "|(29,[2,3,4,5,6],[...|\n",
            "|(29,[2,3,4,5,6],[...|\n",
            "|(29,[2,3,4,5,6],[...|\n",
            "|(29,[0,2,3,4,18],...|\n",
            "|(29,[0,2,3,4,18],...|\n",
            "|(29,[0,2,3,4,18],...|\n",
            "|(29,[0,2,3,4,18],...|\n",
            "|(29,[0,2,3,4,5,6,...|\n",
            "|(29,[1,2,3,4,5,6,...|\n",
            "+--------------------+\n",
            "only showing top 20 rows\n",
            "\n"
          ]
        }
      ]
    },
    {
      "cell_type": "code",
      "source": [
        "purchase_valid_encoded = purchase_test_encoded"
      ],
      "metadata": {
        "id": "QWqbE9YkrJiz"
      },
      "execution_count": 43,
      "outputs": []
    },
    {
      "cell_type": "code",
      "source": [
        "purchase_train, purchase_test = purchase_train_encoded.randomSplit([0.8,0.2], seed=42)"
      ],
      "metadata": {
        "id": "8IZnHvmQsw-7"
      },
      "execution_count": 44,
      "outputs": []
    },
    {
      "cell_type": "code",
      "source": [
        "from pyspark.ml.regression import GBTRegressor\n",
        "from pyspark.ml.evaluation import RegressionEvaluator"
      ],
      "metadata": {
        "id": "w7M-qHPetSdS"
      },
      "execution_count": 45,
      "outputs": []
    },
    {
      "cell_type": "code",
      "source": [
        "model_gbt = GBTRegressor(featuresCol=\"features\", labelCol=\"Purchase\")"
      ],
      "metadata": {
        "id": "ArFb-8XBB9_W"
      },
      "execution_count": 46,
      "outputs": []
    },
    {
      "cell_type": "code",
      "source": [
        "model_gbt = model_gbt.fit(purchase_train)"
      ],
      "metadata": {
        "id": "wD2PQcW2CT6n"
      },
      "execution_count": 47,
      "outputs": []
    },
    {
      "cell_type": "code",
      "source": [
        "purchase_test.selectExpr(\"min(Purchase)\", \"max(Purchase)\", \"avg(Purchase)\").show()\n"
      ],
      "metadata": {
        "colab": {
          "base_uri": "https://localhost:8080/"
        },
        "id": "wPq-OTekA4Eq",
        "outputId": "9130d257-fd0d-4067-a111-1685c15b193b"
      },
      "execution_count": 48,
      "outputs": [
        {
          "output_type": "stream",
          "name": "stdout",
          "text": [
            "+-------------+-------------+-----------------+\n",
            "|min(Purchase)|max(Purchase)|    avg(Purchase)|\n",
            "+-------------+-------------+-----------------+\n",
            "|          193|        23956|9322.331637650479|\n",
            "+-------------+-------------+-----------------+\n",
            "\n"
          ]
        }
      ]
    },
    {
      "cell_type": "code",
      "source": [
        "predictions_gbt = model_gbt.transform(purchase_train)\n",
        "evaluator_gbt = RegressionEvaluator(labelCol=\"Purchase\", predictionCol=\"prediction\", metricName=\"rmse\")\n",
        "print(\"RMSE:\", evaluator_gbt.evaluate(predictions_gbt))"
      ],
      "metadata": {
        "colab": {
          "base_uri": "https://localhost:8080/"
        },
        "id": "mPXMGESSBTXe",
        "outputId": "f700f423-5351-4742-ab53-42f42248e950"
      },
      "execution_count": 49,
      "outputs": [
        {
          "output_type": "stream",
          "name": "stdout",
          "text": [
            "RMSE: 2966.81964112578\n"
          ]
        }
      ]
    },
    {
      "cell_type": "code",
      "source": [
        "predictions_gbt = model_gbt.transform(purchase_test)\n",
        "evaluator_gbt = RegressionEvaluator(labelCol=\"Purchase\", predictionCol=\"prediction\", metricName=\"rmse\")\n",
        "print(\"RMSE:\", evaluator_gbt.evaluate(predictions_gbt))"
      ],
      "metadata": {
        "colab": {
          "base_uri": "https://localhost:8080/"
        },
        "id": "XKq_Je7jCuvI",
        "outputId": "681a3da5-aca6-40b7-99cd-09d9a4afd5c4"
      },
      "execution_count": 50,
      "outputs": [
        {
          "output_type": "stream",
          "name": "stdout",
          "text": [
            "RMSE: 3015.021738117338\n"
          ]
        }
      ]
    },
    {
      "cell_type": "markdown",
      "source": [
        "Model improvement with Grid-Search CV"
      ],
      "metadata": {
        "id": "hEWrIVzHGTYG"
      }
    },
    {
      "cell_type": "code",
      "source": [
        "from pyspark.ml.tuning import CrossValidator, ParamGridBuilder\n",
        "paramGrid = ParamGridBuilder() \\\n",
        "    .addGrid(model_gbt.maxDepth, [3, 5, 7]) \\\n",
        "    .addGrid(model_gbt.maxIter, [50, 100]) \\\n",
        "    .addGrid(model_gbt.stepSize, [0.05, 0.1]) \\\n",
        "    .build()"
      ],
      "metadata": {
        "id": "ogka0KoHC2-6"
      },
      "execution_count": 51,
      "outputs": []
    },
    {
      "cell_type": "code",
      "source": [
        "model_gbt = GBTRegressor(featuresCol=\"features\", labelCol=\"Purchase\")"
      ],
      "metadata": {
        "id": "WIm3dHJDJxmd"
      },
      "execution_count": 52,
      "outputs": []
    },
    {
      "cell_type": "code",
      "source": [
        "cv = CrossValidator(estimator=model_gbt,\n",
        "                    estimatorParamMaps=paramGrid,\n",
        "                    evaluator= evaluator_gbt,\n",
        "                    numFolds=5,\n",
        "                    seed=27)"
      ],
      "metadata": {
        "id": "mQzmfQ7EIh7o"
      },
      "execution_count": 53,
      "outputs": []
    },
    {
      "cell_type": "code",
      "source": [
        "grid_model_gbt = cv.fit(purchase_train)"
      ],
      "metadata": {
        "id": "cDpQr6WBJKNI"
      },
      "execution_count": 54,
      "outputs": []
    },
    {
      "cell_type": "code",
      "source": [
        "predictions_gbt = grid_model_gbt.transform(purchase_train)\n",
        "evaluator_gbt = RegressionEvaluator(labelCol=\"Purchase\", predictionCol=\"prediction\", metricName=\"rmse\")\n",
        "print(\"RMSE:\", evaluator_gbt.evaluate(predictions_gbt))"
      ],
      "metadata": {
        "colab": {
          "base_uri": "https://localhost:8080/"
        },
        "id": "pTu0gDUIJVI5",
        "outputId": "9e9873f1-acd0-4d6b-e63f-73bcd30b2eb3"
      },
      "execution_count": 55,
      "outputs": [
        {
          "output_type": "stream",
          "name": "stdout",
          "text": [
            "RMSE: 2966.81964112578\n"
          ]
        }
      ]
    },
    {
      "cell_type": "code",
      "source": [
        "predictions_gbt = grid_model_gbt.transform(purchase_test)\n",
        "evaluator_gbt = RegressionEvaluator(labelCol=\"Purchase\", predictionCol=\"prediction\", metricName=\"rmse\")\n",
        "print(\"RMSE:\", evaluator_gbt.evaluate(predictions_gbt))"
      ],
      "metadata": {
        "id": "ebqDPL8KV-RU",
        "colab": {
          "base_uri": "https://localhost:8080/"
        },
        "outputId": "362b80d2-710a-481a-9d0e-d04397514938"
      },
      "execution_count": 56,
      "outputs": [
        {
          "output_type": "stream",
          "name": "stdout",
          "text": [
            "RMSE: 3015.021738117338\n"
          ]
        }
      ]
    },
    {
      "cell_type": "code",
      "source": [
        "best_model = grid_model_gbt.bestModel\n",
        "print(\"Best regParam:\", best_model)\n"
      ],
      "metadata": {
        "colab": {
          "base_uri": "https://localhost:8080/"
        },
        "id": "aSXABQbAAojz",
        "outputId": "7dfbe6dd-f0cd-4ce7-b720-4118fc26789b"
      },
      "execution_count": 58,
      "outputs": [
        {
          "output_type": "stream",
          "name": "stdout",
          "text": [
            "Best regParam: GBTRegressionModel: uid=GBTRegressor_0c0ef9c0ae1b, numTrees=20, numFeatures=29\n"
          ]
        }
      ]
    },
    {
      "cell_type": "code",
      "source": [
        "print(\"Best maxIter:\", best_model.getMaxIter())\n",
        "print(\"Best maxDepth:\", best_model.getMaxDepth())\n",
        "print(\"Best stepSize:\", best_model.getStepSize())\n",
        "print(\"Num Trees:\", best_model.getNumTrees)\n",
        "print(\"Num Features:\", best_model.numFeatures)"
      ],
      "metadata": {
        "colab": {
          "base_uri": "https://localhost:8080/"
        },
        "id": "FdH-Tc5FCgjh",
        "outputId": "1f917d4e-6c7e-42e7-98b3-1ff8f16da070"
      },
      "execution_count": 59,
      "outputs": [
        {
          "output_type": "stream",
          "name": "stdout",
          "text": [
            "Best maxIter: 20\n",
            "Best maxDepth: 5\n",
            "Best stepSize: 0.1\n",
            "Num Trees: 20\n",
            "Num Features: 29\n"
          ]
        }
      ]
    },
    {
      "cell_type": "code",
      "source": [
        "final_gbt = GBTRegressor(\n",
        "    featuresCol=\"features\",\n",
        "    labelCol=\"Purchase\",\n",
        "    maxIter=20,\n",
        "    maxDepth=5,\n",
        "    stepSize=0.1\n",
        ")"
      ],
      "metadata": {
        "id": "YpaMWyEYCzLb"
      },
      "execution_count": 61,
      "outputs": []
    },
    {
      "cell_type": "code",
      "source": [
        "final_model = final_gbt.fit(purchase_train)"
      ],
      "metadata": {
        "id": "yyqKt7DkDL6H"
      },
      "execution_count": 62,
      "outputs": []
    },
    {
      "cell_type": "code",
      "source": [
        "predictions = final_model.transform(purchase_test)\n",
        "evaluator = RegressionEvaluator(labelCol=\"Purchase\", predictionCol=\"prediction\", metricName=\"rmse\")\n",
        "print(\"RMSE:\", evaluator.evaluate(predictions_gbt))\n",
        "predictions.select(\"Purchase\", \"prediction\").show(5)\n"
      ],
      "metadata": {
        "colab": {
          "base_uri": "https://localhost:8080/"
        },
        "id": "m-4uZsbtDLuk",
        "outputId": "e01e4c2b-d483-4a20-ffd6-270769888274"
      },
      "execution_count": 63,
      "outputs": [
        {
          "output_type": "stream",
          "name": "stdout",
          "text": [
            "RMSE: 3015.021738117338\n",
            "+--------+------------------+\n",
            "|Purchase|        prediction|\n",
            "+--------+------------------+\n",
            "|    8370|  10044.4199284901|\n",
            "|    2763|3059.4513664714837|\n",
            "|    8839|   6134.2881992845|\n",
            "|    6187| 8348.744377311461|\n",
            "|    7980| 7782.594103663812|\n",
            "+--------+------------------+\n",
            "only showing top 5 rows\n",
            "\n"
          ]
        }
      ]
    },
    {
      "cell_type": "code",
      "source": [],
      "metadata": {
        "id": "kUnzo59IMuPO"
      },
      "execution_count": null,
      "outputs": []
    },
    {
      "cell_type": "code",
      "source": [],
      "metadata": {
        "id": "gB4oVEVyMuMt"
      },
      "execution_count": null,
      "outputs": []
    },
    {
      "cell_type": "code",
      "source": [],
      "metadata": {
        "id": "L51Y6pfYMuKf"
      },
      "execution_count": null,
      "outputs": []
    },
    {
      "cell_type": "code",
      "source": [],
      "metadata": {
        "id": "W4U0VvLnMuIM"
      },
      "execution_count": null,
      "outputs": []
    },
    {
      "cell_type": "code",
      "source": [],
      "metadata": {
        "id": "GDRflxf5MuFv"
      },
      "execution_count": null,
      "outputs": []
    },
    {
      "cell_type": "code",
      "source": [],
      "metadata": {
        "id": "eaNTVm9iMuDf"
      },
      "execution_count": null,
      "outputs": []
    },
    {
      "cell_type": "code",
      "source": [],
      "metadata": {
        "id": "-TtN8fwqMuBZ"
      },
      "execution_count": null,
      "outputs": []
    },
    {
      "cell_type": "code",
      "source": [],
      "metadata": {
        "id": "AnioZyPNMt-1"
      },
      "execution_count": null,
      "outputs": []
    },
    {
      "cell_type": "code",
      "source": [],
      "metadata": {
        "id": "i3Go-rukMt8v"
      },
      "execution_count": null,
      "outputs": []
    },
    {
      "cell_type": "code",
      "source": [],
      "metadata": {
        "id": "RKmTJ7s0Mtw9"
      },
      "execution_count": null,
      "outputs": []
    },
    {
      "cell_type": "markdown",
      "source": [
        "Create a Spark ML Pipeline for the final model."
      ],
      "metadata": {
        "id": "1lgIaU3LFAva"
      }
    },
    {
      "cell_type": "code",
      "source": [
        "# 1. Index categorical columns\n",
        "indexers = [\n",
        "    StringIndexer(inputCol='Gender', outputCol='Gender_indexed', handleInvalid=\"keep\"),\n",
        "    StringIndexer(inputCol='Age', outputCol='Age_indexed', handleInvalid=\"keep\"),\n",
        "    StringIndexer(inputCol='Stay_In_Current_City_Years', outputCol='Stay_indexed', handleInvalid=\"keep\"),\n",
        "    StringIndexer(inputCol='City_Category', outputCol='City_indexed', handleInvalid=\"keep\")\n",
        "]"
      ],
      "metadata": {
        "id": "SOgmtomxFAKt"
      },
      "execution_count": 64,
      "outputs": []
    },
    {
      "cell_type": "code",
      "source": [
        "# 2. One-Hot Encode selected indexed columns\n",
        "encoder = OneHotEncoder(\n",
        "    inputCols=[\"Gender_indexed\", \"City_indexed\", \"Occupation\"],\n",
        "    outputCols=[\"Gender_ohe\", \"City_Category_ohe\", \"Occupation_ohe\"],\n",
        "    handleInvalid=\"keep\"\n",
        ")\n"
      ],
      "metadata": {
        "id": "E0aqU9VNFAHL"
      },
      "execution_count": 65,
      "outputs": []
    },
    {
      "cell_type": "code",
      "source": [
        "# 3. Feature columns for the model\n",
        "feature_cols = [\n",
        "        'Age_indexed',\n",
        "        'Stay_indexed',\n",
        "        'Product_Category_1',\n",
        "        'Product_Category_2',\n",
        "        'Product_Category_3',\n",
        "        'Marital_Status',\n",
        "        'Gender_ohe',\n",
        "        'City_Category_ohe',\n",
        "        'Occupation_ohe'\n",
        "]\n",
        "\n",
        "assembler = VectorAssembler(inputCols=feature_cols, outputCol=\"features\")\n"
      ],
      "metadata": {
        "id": "8sR51aDVFADz"
      },
      "execution_count": 67,
      "outputs": []
    },
    {
      "cell_type": "code",
      "source": [
        "# 4. Final GBT Model with tuned params\n",
        "gbt = GBTRegressor(\n",
        "    featuresCol=\"features\",\n",
        "    labelCol=\"Purchase\",\n",
        "    maxIter=20,\n",
        "    maxDepth=5,\n",
        "    stepSize=0.1\n",
        ")"
      ],
      "metadata": {
        "id": "PMeDGJIOE__M"
      },
      "execution_count": 68,
      "outputs": []
    },
    {
      "cell_type": "code",
      "source": [
        "# 5. Create the pipeline\n",
        "from pyspark.ml import Pipeline\n",
        "pipeline = Pipeline(stages=indexers + [encoder, assembler, gbt])"
      ],
      "metadata": {
        "id": "6ZZUBI5QE_9A"
      },
      "execution_count": 69,
      "outputs": []
    },
    {
      "cell_type": "code",
      "source": [
        "pipeline"
      ],
      "metadata": {
        "colab": {
          "base_uri": "https://localhost:8080/"
        },
        "id": "eD0aqbZ2E_68",
        "outputId": "3e11ac72-9f09-4398-dbbe-c92bdfabcf49"
      },
      "execution_count": 71,
      "outputs": [
        {
          "output_type": "execute_result",
          "data": {
            "text/plain": [
              "Pipeline_74dadec758e5"
            ]
          },
          "metadata": {},
          "execution_count": 71
        }
      ]
    },
    {
      "cell_type": "code",
      "source": [
        "#load data again\n",
        "purchase_train_ag = spark.read.csv(\"/content/train.csv\", header=True, inferSchema=True)\n",
        "purchase_test_ag = spark.read.csv(\"/content/test.csv\", header=True, inferSchema=True)"
      ],
      "metadata": {
        "id": "z3Rdu6BmKFxf"
      },
      "execution_count": 73,
      "outputs": []
    },
    {
      "cell_type": "code",
      "source": [
        "purchase_train_ag = purchase_train_ag.na.fill({\"Product_Category_2\": 8, \"Product_Category_3\": 16})\n",
        "purchase_test_ag = purchase_test_ag.na.fill({\"Product_Category_2\": 8, \"Product_Category_3\": 16})"
      ],
      "metadata": {
        "id": "fnWqNizfKFml"
      },
      "execution_count": 74,
      "outputs": []
    },
    {
      "cell_type": "code",
      "source": [
        "purchase_valid_ag = purchase_test_ag"
      ],
      "metadata": {
        "id": "TMwHwq3NLH9p"
      },
      "execution_count": 75,
      "outputs": []
    },
    {
      "cell_type": "code",
      "source": [
        "purchase_train_ag, purchase_test_ag = purchase_train_ag.randomSplit([0.8,0.2], seed=42)"
      ],
      "metadata": {
        "id": "dUdQ-qW_KFbM"
      },
      "execution_count": 76,
      "outputs": []
    },
    {
      "cell_type": "code",
      "source": [
        "# 6. Fit the model on training data\n",
        "pipeline_model = pipeline.fit(purchase_train_ag)\n",
        "\n",
        "# 7. Predict on test data\n",
        "predictions = pipeline_model.transform(purchase_test_ag)\n",
        "predictions.select(\"Purchase\", \"prediction\").show(5)"
      ],
      "metadata": {
        "colab": {
          "base_uri": "https://localhost:8080/"
        },
        "id": "TNXGEf45E_46",
        "outputId": "d02f3ad9-007e-455d-f01d-042c2099fa23"
      },
      "execution_count": 78,
      "outputs": [
        {
          "output_type": "stream",
          "name": "stdout",
          "text": [
            "+--------+------------------+\n",
            "|Purchase|        prediction|\n",
            "+--------+------------------+\n",
            "|    9938| 8008.996156592192|\n",
            "|    1057|1498.8480191003503|\n",
            "|    1422|1717.4039972147618|\n",
            "|    7882| 7645.854874906616|\n",
            "|   11039| 9420.069335760385|\n",
            "+--------+------------------+\n",
            "only showing top 5 rows\n",
            "\n"
          ]
        }
      ]
    },
    {
      "cell_type": "code",
      "source": [
        "evaluator = RegressionEvaluator(labelCol=\"Purchase\", predictionCol=\"prediction\", metricName=\"rmse\")\n",
        "print(\"RMSE:\", evaluator.evaluate(predictions))"
      ],
      "metadata": {
        "colab": {
          "base_uri": "https://localhost:8080/"
        },
        "id": "4SWPsdPjE_23",
        "outputId": "64f8a427-ed43-4707-a7af-8e22eb61929f"
      },
      "execution_count": 79,
      "outputs": [
        {
          "output_type": "stream",
          "name": "stdout",
          "text": [
            "RMSE: 2960.1725880389063\n"
          ]
        }
      ]
    },
    {
      "cell_type": "code",
      "source": [
        "spark.stop()"
      ],
      "metadata": {
        "id": "kYx7UcmZDLPo"
      },
      "execution_count": 80,
      "outputs": []
    }
  ]
}